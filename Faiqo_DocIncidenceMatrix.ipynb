{
  "nbformat": 4,
  "nbformat_minor": 0,
  "metadata": {
    "colab": {
      "provenance": []
    },
    "kernelspec": {
      "name": "python3",
      "display_name": "Python 3"
    },
    "language_info": {
      "name": "python"
    }
  },
  "cells": [
    {
      "cell_type": "code",
      "execution_count": 22,
      "metadata": {
        "colab": {
          "base_uri": "https://localhost:8080/"
        },
        "id": "wBtyWmPBc68x",
        "outputId": "296cfeab-2489-4da5-ae2a-bf286f6840bc"
      },
      "outputs": [
        {
          "output_type": "stream",
          "name": "stdout",
          "text": [
            "Kata-kata unik yang tersedia di seluruh kalimat adalah ['estimasi', 'teratas', 'untuk', 'penjualan', 'rumah', 'baru', 'meningkat', 'di', 'bulan', 'juli', 'peningkatan']\n",
            "Representasi Vektor untuk kalimat kesatu - [1, 1, 1, 1, 1, 1, 0, 0, 0, 0, 0]\n",
            "Representasi Vektor untuk kalimat kedua - [0, 0, 0, 1, 1, 0, 1, 1, 1, 1, 0]\n",
            "Representasi Vektor untuk kalimat ketiga - [0, 0, 0, 1, 1, 0, 0, 1, 1, 1, 1]\n",
            "Representasi Vektor untuk kalimat keempat - [0, 0, 0, 1, 1, 1, 1, 1, 1, 1, 0]\n",
            "Vector untuk rumah : [0, 0, 0, 0, 1, 0, 0, 0, 0, 0, 0]\n",
            "Vector penjualan : [0, 0, 0, 1, 0, 0, 0, 0, 0, 0, 0]\n",
            "Vector not juli : [1, 1, 1, 1, 1, 1, 1, 1, 1, 0, 1]\n",
            "Final vector post BITWISE AND operator : [0, 0, 0, 0, 1, 0, 0, 0, 0, 0, 0]\n"
          ]
        }
      ],
      "source": [
        "sentence_one = \"estimasi teratas untuk penjualan rumah baru\"\n",
        "sentence_two = \"penjualan rumah meningkat di bulan Juli\"\n",
        "sentence_three = \"peningkatan penjualan rumah di bulan Juli\"\n",
        "sentence_four = \"penjualan rumah baru di bulan Juli meningkat\"\n",
        "\n",
        "tokens = []\n",
        "for word in sentence_one.lower().split():\n",
        "    if word not in tokens:\n",
        "        tokens.append(word)\n",
        "\n",
        "for word in sentence_two.lower().split():\n",
        "    if word not in tokens:\n",
        "        tokens.append(word)\n",
        "\n",
        "for word in sentence_three.lower().split():\n",
        "    if word not in tokens:\n",
        "        tokens.append(word)\n",
        "\n",
        "for word in sentence_four.lower().split():\n",
        "    if word not in tokens:\n",
        "        tokens.append(word)\n",
        "print(f'Kata-kata unik yang tersedia di seluruh kalimat adalah {tokens}')\n",
        "\n",
        "vector_one = []\n",
        "for token in tokens:\n",
        "    if token in sentence_one.lower().split():\n",
        "            vector_one.append(1)\n",
        "    else:\n",
        "            vector_one.append(0)\n",
        "print(f'Representasi Vektor untuk kalimat kesatu - {vector_one}')\n",
        "\n",
        "vector_two = []\n",
        "for token in tokens:\n",
        "    if token in sentence_two.lower().split():\n",
        "            vector_two.append(1)\n",
        "    else:\n",
        "            vector_two.append(0)\n",
        "print(f'Representasi Vektor untuk kalimat kedua - {vector_two}')\n",
        "\n",
        "vector_three = []\n",
        "for token in tokens:\n",
        "    if token in sentence_three.lower().split():\n",
        "            vector_three.append(1)\n",
        "    else:\n",
        "            vector_three.append(0)\n",
        "print(f'Representasi Vektor untuk kalimat ketiga - {vector_three}')\n",
        "\n",
        "vector_four = []\n",
        "for token in tokens:\n",
        "    if token in sentence_four.lower().split():\n",
        "            vector_four.append(1)\n",
        "    else:\n",
        "            vector_four.append(0)\n",
        "print(f'Representasi Vektor untuk kalimat keempat - {vector_four}')\n",
        "\n",
        "rumah_vector = [0,0,0,0,1,0,0,0,0,0,0]\n",
        "print(f'Vector untuk rumah : {rumah_vector}')\n",
        "penjualan_vector = [0,0,0,1,0,0,0,0,0,0,0]\n",
        "print(f'Vector penjualan : {penjualan_vector}')\n",
        "not_juli_vector = [1,1,1,1,1,1,1,1,1,0,1]\n",
        "print(f'Vector not juli : {not_juli_vector}')\n",
        "\n",
        "result_vector = []\n",
        "for i in range(len(rumah_vector)):\n",
        "    # For 1 & 1\n",
        "    if (rumah_vector[i] == 1 and not_juli_vector[i] == 1):\n",
        "        result_vector.append(1)\n",
        "    # For 1 & 0 or 0 & 1\n",
        "    elif (rumah_vector[i] == 1 and not_juli_vector[i] == 0) or (rumah_vector[i] == 0 and not_juli_vector[1] == 1):\n",
        "        result_vector.append(0)\n",
        "    else:\n",
        "        result_vector.append(0)\n",
        "print(f'Final vector post BITWISE AND operator : {result_vector}')"
      ]
    }
  ]
}